{
 "cells": [
  {
   "cell_type": "markdown",
   "metadata": {},
   "source": [
    "# Определение стоимости автомобилей"
   ]
  },
  {
   "cell_type": "markdown",
   "metadata": {},
   "source": [
    "Сервис по продаже автомобилей с пробегом «Не бит, не крашен» разрабатывает приложение для привлечения новых клиентов. В нём можно быстро узнать рыночную стоимость своего автомобиля. В вашем распоряжении исторические данные: технические характеристики, комплектации и цены автомобилей. Вам нужно построить модель для определения стоимости. \n",
    "\n",
    "Заказчику важны:\n",
    "\n",
    "- качество предсказания;\n",
    "- скорость предсказания;\n",
    "- время обучения."
   ]
  },
  {
   "cell_type": "markdown",
   "metadata": {},
   "source": [
    "## Подготовка данных"
   ]
  },
  {
   "cell_type": "code",
   "execution_count": 1,
   "metadata": {},
   "outputs": [],
   "source": [
    "!pip install category_encoders -q"
   ]
  },
  {
   "cell_type": "code",
   "execution_count": 2,
   "metadata": {},
   "outputs": [],
   "source": [
    "import os\n",
    "import pandas as pd\n",
    "import numpy as np\n",
    "from sklearn.preprocessing import LabelEncoder, OneHotEncoder, OrdinalEncoder\n",
    "from sklearn.model_selection import train_test_split, cross_val_score\n",
    "from sklearn.ensemble import RandomForestRegressor\n",
    "import lightgbm as lgb\n",
    "from sklearn.linear_model import LinearRegression\n",
    "from sklearn.metrics import mean_squared_error, make_scorer\n",
    "import time\n",
    "from category_encoders import TargetEncoder, BinaryEncoder\n",
    "from sklearn.compose import ColumnTransformer"
   ]
  },
  {
   "cell_type": "code",
   "execution_count": 3,
   "metadata": {},
   "outputs": [
    {
     "name": "stdout",
     "output_type": "stream",
     "text": [
      "Данные из файла '/datasets/autos.csv' успешно загружены.\n"
     ]
    }
   ],
   "source": [
    "def load_data(file_path, delimiter=','):\n",
    "    # Проверка существования файла по указанному пути\n",
    "    if os.path.exists(file_path):\n",
    "        # Загрузка данных из файла в датафрейм с использованием указанного разделителя\n",
    "        data = pd.read_csv(file_path, delimiter=delimiter)\n",
    "        print(f\"Данные из файла '{file_path}' успешно загружены.\")\n",
    "        return data\n",
    "    else:\n",
    "        # Вывод сообщения о том, что файл не существует\n",
    "        print(f\"Файл '{file_path}' не существует.\")\n",
    "        return None\n",
    "\n",
    "# Замените путь к файлам на ваши\n",
    "data = load_data('/datasets/autos.csv')"
   ]
  },
  {
   "cell_type": "code",
   "execution_count": 4,
   "metadata": {},
   "outputs": [
    {
     "data": {
      "text/html": [
       "<div>\n",
       "<style scoped>\n",
       "    .dataframe tbody tr th:only-of-type {\n",
       "        vertical-align: middle;\n",
       "    }\n",
       "\n",
       "    .dataframe tbody tr th {\n",
       "        vertical-align: top;\n",
       "    }\n",
       "\n",
       "    .dataframe thead th {\n",
       "        text-align: right;\n",
       "    }\n",
       "</style>\n",
       "<table border=\"1\" class=\"dataframe\">\n",
       "  <thead>\n",
       "    <tr style=\"text-align: right;\">\n",
       "      <th></th>\n",
       "      <th>DateCrawled</th>\n",
       "      <th>Price</th>\n",
       "      <th>VehicleType</th>\n",
       "      <th>RegistrationYear</th>\n",
       "      <th>Gearbox</th>\n",
       "      <th>Power</th>\n",
       "      <th>Model</th>\n",
       "      <th>Kilometer</th>\n",
       "      <th>RegistrationMonth</th>\n",
       "      <th>FuelType</th>\n",
       "      <th>Brand</th>\n",
       "      <th>Repaired</th>\n",
       "      <th>DateCreated</th>\n",
       "      <th>NumberOfPictures</th>\n",
       "      <th>PostalCode</th>\n",
       "      <th>LastSeen</th>\n",
       "    </tr>\n",
       "  </thead>\n",
       "  <tbody>\n",
       "    <tr>\n",
       "      <th>0</th>\n",
       "      <td>2016-03-24 11:52:17</td>\n",
       "      <td>480</td>\n",
       "      <td>NaN</td>\n",
       "      <td>1993</td>\n",
       "      <td>manual</td>\n",
       "      <td>0</td>\n",
       "      <td>golf</td>\n",
       "      <td>150000</td>\n",
       "      <td>0</td>\n",
       "      <td>petrol</td>\n",
       "      <td>volkswagen</td>\n",
       "      <td>NaN</td>\n",
       "      <td>2016-03-24 00:00:00</td>\n",
       "      <td>0</td>\n",
       "      <td>70435</td>\n",
       "      <td>2016-04-07 03:16:57</td>\n",
       "    </tr>\n",
       "    <tr>\n",
       "      <th>1</th>\n",
       "      <td>2016-03-24 10:58:45</td>\n",
       "      <td>18300</td>\n",
       "      <td>coupe</td>\n",
       "      <td>2011</td>\n",
       "      <td>manual</td>\n",
       "      <td>190</td>\n",
       "      <td>NaN</td>\n",
       "      <td>125000</td>\n",
       "      <td>5</td>\n",
       "      <td>gasoline</td>\n",
       "      <td>audi</td>\n",
       "      <td>yes</td>\n",
       "      <td>2016-03-24 00:00:00</td>\n",
       "      <td>0</td>\n",
       "      <td>66954</td>\n",
       "      <td>2016-04-07 01:46:50</td>\n",
       "    </tr>\n",
       "    <tr>\n",
       "      <th>2</th>\n",
       "      <td>2016-03-14 12:52:21</td>\n",
       "      <td>9800</td>\n",
       "      <td>suv</td>\n",
       "      <td>2004</td>\n",
       "      <td>auto</td>\n",
       "      <td>163</td>\n",
       "      <td>grand</td>\n",
       "      <td>125000</td>\n",
       "      <td>8</td>\n",
       "      <td>gasoline</td>\n",
       "      <td>jeep</td>\n",
       "      <td>NaN</td>\n",
       "      <td>2016-03-14 00:00:00</td>\n",
       "      <td>0</td>\n",
       "      <td>90480</td>\n",
       "      <td>2016-04-05 12:47:46</td>\n",
       "    </tr>\n",
       "    <tr>\n",
       "      <th>3</th>\n",
       "      <td>2016-03-17 16:54:04</td>\n",
       "      <td>1500</td>\n",
       "      <td>small</td>\n",
       "      <td>2001</td>\n",
       "      <td>manual</td>\n",
       "      <td>75</td>\n",
       "      <td>golf</td>\n",
       "      <td>150000</td>\n",
       "      <td>6</td>\n",
       "      <td>petrol</td>\n",
       "      <td>volkswagen</td>\n",
       "      <td>no</td>\n",
       "      <td>2016-03-17 00:00:00</td>\n",
       "      <td>0</td>\n",
       "      <td>91074</td>\n",
       "      <td>2016-03-17 17:40:17</td>\n",
       "    </tr>\n",
       "    <tr>\n",
       "      <th>4</th>\n",
       "      <td>2016-03-31 17:25:20</td>\n",
       "      <td>3600</td>\n",
       "      <td>small</td>\n",
       "      <td>2008</td>\n",
       "      <td>manual</td>\n",
       "      <td>69</td>\n",
       "      <td>fabia</td>\n",
       "      <td>90000</td>\n",
       "      <td>7</td>\n",
       "      <td>gasoline</td>\n",
       "      <td>skoda</td>\n",
       "      <td>no</td>\n",
       "      <td>2016-03-31 00:00:00</td>\n",
       "      <td>0</td>\n",
       "      <td>60437</td>\n",
       "      <td>2016-04-06 10:17:21</td>\n",
       "    </tr>\n",
       "  </tbody>\n",
       "</table>\n",
       "</div>"
      ],
      "text/plain": [
       "           DateCrawled  Price VehicleType  RegistrationYear Gearbox  Power  \\\n",
       "0  2016-03-24 11:52:17    480         NaN              1993  manual      0   \n",
       "1  2016-03-24 10:58:45  18300       coupe              2011  manual    190   \n",
       "2  2016-03-14 12:52:21   9800         suv              2004    auto    163   \n",
       "3  2016-03-17 16:54:04   1500       small              2001  manual     75   \n",
       "4  2016-03-31 17:25:20   3600       small              2008  manual     69   \n",
       "\n",
       "   Model  Kilometer  RegistrationMonth  FuelType       Brand Repaired  \\\n",
       "0   golf     150000                  0    petrol  volkswagen      NaN   \n",
       "1    NaN     125000                  5  gasoline        audi      yes   \n",
       "2  grand     125000                  8  gasoline        jeep      NaN   \n",
       "3   golf     150000                  6    petrol  volkswagen       no   \n",
       "4  fabia      90000                  7  gasoline       skoda       no   \n",
       "\n",
       "           DateCreated  NumberOfPictures  PostalCode             LastSeen  \n",
       "0  2016-03-24 00:00:00                 0       70435  2016-04-07 03:16:57  \n",
       "1  2016-03-24 00:00:00                 0       66954  2016-04-07 01:46:50  \n",
       "2  2016-03-14 00:00:00                 0       90480  2016-04-05 12:47:46  \n",
       "3  2016-03-17 00:00:00                 0       91074  2016-03-17 17:40:17  \n",
       "4  2016-03-31 00:00:00                 0       60437  2016-04-06 10:17:21  "
      ]
     },
     "metadata": {},
     "output_type": "display_data"
    },
    {
     "name": "stdout",
     "output_type": "stream",
     "text": [
      "<class 'pandas.core.frame.DataFrame'>\n",
      "RangeIndex: 354369 entries, 0 to 354368\n",
      "Data columns (total 16 columns):\n",
      " #   Column             Non-Null Count   Dtype \n",
      "---  ------             --------------   ----- \n",
      " 0   DateCrawled        354369 non-null  object\n",
      " 1   Price              354369 non-null  int64 \n",
      " 2   VehicleType        316879 non-null  object\n",
      " 3   RegistrationYear   354369 non-null  int64 \n",
      " 4   Gearbox            334536 non-null  object\n",
      " 5   Power              354369 non-null  int64 \n",
      " 6   Model              334664 non-null  object\n",
      " 7   Kilometer          354369 non-null  int64 \n",
      " 8   RegistrationMonth  354369 non-null  int64 \n",
      " 9   FuelType           321474 non-null  object\n",
      " 10  Brand              354369 non-null  object\n",
      " 11  Repaired           283215 non-null  object\n",
      " 12  DateCreated        354369 non-null  object\n",
      " 13  NumberOfPictures   354369 non-null  int64 \n",
      " 14  PostalCode         354369 non-null  int64 \n",
      " 15  LastSeen           354369 non-null  object\n",
      "dtypes: int64(7), object(9)\n",
      "memory usage: 43.3+ MB\n"
     ]
    },
    {
     "data": {
      "text/html": [
       "<div>\n",
       "<style scoped>\n",
       "    .dataframe tbody tr th:only-of-type {\n",
       "        vertical-align: middle;\n",
       "    }\n",
       "\n",
       "    .dataframe tbody tr th {\n",
       "        vertical-align: top;\n",
       "    }\n",
       "\n",
       "    .dataframe thead th {\n",
       "        text-align: right;\n",
       "    }\n",
       "</style>\n",
       "<table border=\"1\" class=\"dataframe\">\n",
       "  <thead>\n",
       "    <tr style=\"text-align: right;\">\n",
       "      <th></th>\n",
       "      <th>Price</th>\n",
       "      <th>RegistrationYear</th>\n",
       "      <th>Power</th>\n",
       "      <th>Kilometer</th>\n",
       "      <th>RegistrationMonth</th>\n",
       "      <th>NumberOfPictures</th>\n",
       "      <th>PostalCode</th>\n",
       "    </tr>\n",
       "  </thead>\n",
       "  <tbody>\n",
       "    <tr>\n",
       "      <th>count</th>\n",
       "      <td>354369.000000</td>\n",
       "      <td>354369.000000</td>\n",
       "      <td>354369.000000</td>\n",
       "      <td>354369.000000</td>\n",
       "      <td>354369.000000</td>\n",
       "      <td>354369.0</td>\n",
       "      <td>354369.000000</td>\n",
       "    </tr>\n",
       "    <tr>\n",
       "      <th>mean</th>\n",
       "      <td>4416.656776</td>\n",
       "      <td>2004.234448</td>\n",
       "      <td>110.094337</td>\n",
       "      <td>128211.172535</td>\n",
       "      <td>5.714645</td>\n",
       "      <td>0.0</td>\n",
       "      <td>50508.689087</td>\n",
       "    </tr>\n",
       "    <tr>\n",
       "      <th>std</th>\n",
       "      <td>4514.158514</td>\n",
       "      <td>90.227958</td>\n",
       "      <td>189.850405</td>\n",
       "      <td>37905.341530</td>\n",
       "      <td>3.726421</td>\n",
       "      <td>0.0</td>\n",
       "      <td>25783.096248</td>\n",
       "    </tr>\n",
       "    <tr>\n",
       "      <th>min</th>\n",
       "      <td>0.000000</td>\n",
       "      <td>1000.000000</td>\n",
       "      <td>0.000000</td>\n",
       "      <td>5000.000000</td>\n",
       "      <td>0.000000</td>\n",
       "      <td>0.0</td>\n",
       "      <td>1067.000000</td>\n",
       "    </tr>\n",
       "    <tr>\n",
       "      <th>25%</th>\n",
       "      <td>1050.000000</td>\n",
       "      <td>1999.000000</td>\n",
       "      <td>69.000000</td>\n",
       "      <td>125000.000000</td>\n",
       "      <td>3.000000</td>\n",
       "      <td>0.0</td>\n",
       "      <td>30165.000000</td>\n",
       "    </tr>\n",
       "    <tr>\n",
       "      <th>50%</th>\n",
       "      <td>2700.000000</td>\n",
       "      <td>2003.000000</td>\n",
       "      <td>105.000000</td>\n",
       "      <td>150000.000000</td>\n",
       "      <td>6.000000</td>\n",
       "      <td>0.0</td>\n",
       "      <td>49413.000000</td>\n",
       "    </tr>\n",
       "    <tr>\n",
       "      <th>75%</th>\n",
       "      <td>6400.000000</td>\n",
       "      <td>2008.000000</td>\n",
       "      <td>143.000000</td>\n",
       "      <td>150000.000000</td>\n",
       "      <td>9.000000</td>\n",
       "      <td>0.0</td>\n",
       "      <td>71083.000000</td>\n",
       "    </tr>\n",
       "    <tr>\n",
       "      <th>max</th>\n",
       "      <td>20000.000000</td>\n",
       "      <td>9999.000000</td>\n",
       "      <td>20000.000000</td>\n",
       "      <td>150000.000000</td>\n",
       "      <td>12.000000</td>\n",
       "      <td>0.0</td>\n",
       "      <td>99998.000000</td>\n",
       "    </tr>\n",
       "  </tbody>\n",
       "</table>\n",
       "</div>"
      ],
      "text/plain": [
       "               Price  RegistrationYear          Power      Kilometer  \\\n",
       "count  354369.000000     354369.000000  354369.000000  354369.000000   \n",
       "mean     4416.656776       2004.234448     110.094337  128211.172535   \n",
       "std      4514.158514         90.227958     189.850405   37905.341530   \n",
       "min         0.000000       1000.000000       0.000000    5000.000000   \n",
       "25%      1050.000000       1999.000000      69.000000  125000.000000   \n",
       "50%      2700.000000       2003.000000     105.000000  150000.000000   \n",
       "75%      6400.000000       2008.000000     143.000000  150000.000000   \n",
       "max     20000.000000       9999.000000   20000.000000  150000.000000   \n",
       "\n",
       "       RegistrationMonth  NumberOfPictures     PostalCode  \n",
       "count      354369.000000          354369.0  354369.000000  \n",
       "mean            5.714645               0.0   50508.689087  \n",
       "std             3.726421               0.0   25783.096248  \n",
       "min             0.000000               0.0    1067.000000  \n",
       "25%             3.000000               0.0   30165.000000  \n",
       "50%             6.000000               0.0   49413.000000  \n",
       "75%             9.000000               0.0   71083.000000  \n",
       "max            12.000000               0.0   99998.000000  "
      ]
     },
     "metadata": {},
     "output_type": "display_data"
    }
   ],
   "source": [
    "# Просмотр первых строк данных\n",
    "display(data.head())\n",
    "\n",
    "# Общая информация о данных\n",
    "data.info()\n",
    "\n",
    "# Описательная статистика\n",
    "display(data.describe())"
   ]
  },
  {
   "cell_type": "code",
   "execution_count": 5,
   "metadata": {},
   "outputs": [
    {
     "data": {
      "text/html": [
       "<div>\n",
       "<style scoped>\n",
       "    .dataframe tbody tr th:only-of-type {\n",
       "        vertical-align: middle;\n",
       "    }\n",
       "\n",
       "    .dataframe tbody tr th {\n",
       "        vertical-align: top;\n",
       "    }\n",
       "\n",
       "    .dataframe thead th {\n",
       "        text-align: right;\n",
       "    }\n",
       "</style>\n",
       "<table border=\"1\" class=\"dataframe\">\n",
       "  <thead>\n",
       "    <tr style=\"text-align: right;\">\n",
       "      <th></th>\n",
       "      <th>DateCrawled</th>\n",
       "      <th>Price</th>\n",
       "      <th>VehicleType</th>\n",
       "      <th>RegistrationYear</th>\n",
       "      <th>Gearbox</th>\n",
       "      <th>Power</th>\n",
       "      <th>Model</th>\n",
       "      <th>Kilometer</th>\n",
       "      <th>RegistrationMonth</th>\n",
       "      <th>FuelType</th>\n",
       "      <th>Brand</th>\n",
       "      <th>Repaired</th>\n",
       "      <th>DateCreated</th>\n",
       "      <th>PostalCode</th>\n",
       "      <th>LastSeen</th>\n",
       "    </tr>\n",
       "  </thead>\n",
       "  <tbody>\n",
       "    <tr>\n",
       "      <th>0</th>\n",
       "      <td>2016-03-24 11:52:17</td>\n",
       "      <td>480</td>\n",
       "      <td>sedan</td>\n",
       "      <td>1993</td>\n",
       "      <td>manual</td>\n",
       "      <td>0</td>\n",
       "      <td>golf</td>\n",
       "      <td>150000</td>\n",
       "      <td>0</td>\n",
       "      <td>petrol</td>\n",
       "      <td>volkswagen</td>\n",
       "      <td>no</td>\n",
       "      <td>2016-03-24 00:00:00</td>\n",
       "      <td>70435</td>\n",
       "      <td>2016-04-07 03:16:57</td>\n",
       "    </tr>\n",
       "    <tr>\n",
       "      <th>1</th>\n",
       "      <td>2016-03-24 10:58:45</td>\n",
       "      <td>18300</td>\n",
       "      <td>coupe</td>\n",
       "      <td>2011</td>\n",
       "      <td>manual</td>\n",
       "      <td>190</td>\n",
       "      <td>golf</td>\n",
       "      <td>125000</td>\n",
       "      <td>5</td>\n",
       "      <td>gasoline</td>\n",
       "      <td>audi</td>\n",
       "      <td>yes</td>\n",
       "      <td>2016-03-24 00:00:00</td>\n",
       "      <td>66954</td>\n",
       "      <td>2016-04-07 01:46:50</td>\n",
       "    </tr>\n",
       "    <tr>\n",
       "      <th>2</th>\n",
       "      <td>2016-03-14 12:52:21</td>\n",
       "      <td>9800</td>\n",
       "      <td>suv</td>\n",
       "      <td>2004</td>\n",
       "      <td>auto</td>\n",
       "      <td>163</td>\n",
       "      <td>grand</td>\n",
       "      <td>125000</td>\n",
       "      <td>8</td>\n",
       "      <td>gasoline</td>\n",
       "      <td>jeep</td>\n",
       "      <td>no</td>\n",
       "      <td>2016-03-14 00:00:00</td>\n",
       "      <td>90480</td>\n",
       "      <td>2016-04-05 12:47:46</td>\n",
       "    </tr>\n",
       "    <tr>\n",
       "      <th>3</th>\n",
       "      <td>2016-03-17 16:54:04</td>\n",
       "      <td>1500</td>\n",
       "      <td>small</td>\n",
       "      <td>2001</td>\n",
       "      <td>manual</td>\n",
       "      <td>75</td>\n",
       "      <td>golf</td>\n",
       "      <td>150000</td>\n",
       "      <td>6</td>\n",
       "      <td>petrol</td>\n",
       "      <td>volkswagen</td>\n",
       "      <td>no</td>\n",
       "      <td>2016-03-17 00:00:00</td>\n",
       "      <td>91074</td>\n",
       "      <td>2016-03-17 17:40:17</td>\n",
       "    </tr>\n",
       "    <tr>\n",
       "      <th>4</th>\n",
       "      <td>2016-03-31 17:25:20</td>\n",
       "      <td>3600</td>\n",
       "      <td>small</td>\n",
       "      <td>2008</td>\n",
       "      <td>manual</td>\n",
       "      <td>69</td>\n",
       "      <td>fabia</td>\n",
       "      <td>90000</td>\n",
       "      <td>7</td>\n",
       "      <td>gasoline</td>\n",
       "      <td>skoda</td>\n",
       "      <td>no</td>\n",
       "      <td>2016-03-31 00:00:00</td>\n",
       "      <td>60437</td>\n",
       "      <td>2016-04-06 10:17:21</td>\n",
       "    </tr>\n",
       "  </tbody>\n",
       "</table>\n",
       "</div>"
      ],
      "text/plain": [
       "           DateCrawled  Price VehicleType  RegistrationYear Gearbox  Power  \\\n",
       "0  2016-03-24 11:52:17    480       sedan              1993  manual      0   \n",
       "1  2016-03-24 10:58:45  18300       coupe              2011  manual    190   \n",
       "2  2016-03-14 12:52:21   9800         suv              2004    auto    163   \n",
       "3  2016-03-17 16:54:04   1500       small              2001  manual     75   \n",
       "4  2016-03-31 17:25:20   3600       small              2008  manual     69   \n",
       "\n",
       "   Model  Kilometer  RegistrationMonth  FuelType       Brand Repaired  \\\n",
       "0   golf     150000                  0    petrol  volkswagen       no   \n",
       "1   golf     125000                  5  gasoline        audi      yes   \n",
       "2  grand     125000                  8  gasoline        jeep       no   \n",
       "3   golf     150000                  6    petrol  volkswagen       no   \n",
       "4  fabia      90000                  7  gasoline       skoda       no   \n",
       "\n",
       "           DateCreated  PostalCode             LastSeen  \n",
       "0  2016-03-24 00:00:00       70435  2016-04-07 03:16:57  \n",
       "1  2016-03-24 00:00:00       66954  2016-04-07 01:46:50  \n",
       "2  2016-03-14 00:00:00       90480  2016-04-05 12:47:46  \n",
       "3  2016-03-17 00:00:00       91074  2016-03-17 17:40:17  \n",
       "4  2016-03-31 00:00:00       60437  2016-04-06 10:17:21  "
      ]
     },
     "metadata": {},
     "output_type": "display_data"
    },
    {
     "name": "stdout",
     "output_type": "stream",
     "text": [
      "<class 'pandas.core.frame.DataFrame'>\n",
      "Int64Index: 354198 entries, 0 to 354368\n",
      "Data columns (total 15 columns):\n",
      " #   Column             Non-Null Count   Dtype \n",
      "---  ------             --------------   ----- \n",
      " 0   DateCrawled        354198 non-null  object\n",
      " 1   Price              354198 non-null  int64 \n",
      " 2   VehicleType        354198 non-null  object\n",
      " 3   RegistrationYear   354198 non-null  int64 \n",
      " 4   Gearbox            354198 non-null  object\n",
      " 5   Power              354198 non-null  int64 \n",
      " 6   Model              354198 non-null  object\n",
      " 7   Kilometer          354198 non-null  int64 \n",
      " 8   RegistrationMonth  354198 non-null  int64 \n",
      " 9   FuelType           354198 non-null  object\n",
      " 10  Brand              354198 non-null  object\n",
      " 11  Repaired           354198 non-null  object\n",
      " 12  DateCreated        354198 non-null  object\n",
      " 13  PostalCode         354198 non-null  int64 \n",
      " 14  LastSeen           354198 non-null  object\n",
      "dtypes: int64(6), object(9)\n",
      "memory usage: 43.2+ MB\n"
     ]
    }
   ],
   "source": [
    "# Удаление неинформативного признака NumberOfPictures\n",
    "data = data.drop(['NumberOfPictures'], axis=1)\n",
    "\n",
    "# Заполнение оставшихся пропущенных значений медианой для числовых признаков и модой для категориальных\n",
    "for column in data.columns:\n",
    "    if data[column].dtype == 'object':\n",
    "        data[column].fillna(data[column].mode()[0], inplace=True)\n",
    "    else:\n",
    "        data[column].fillna(data[column].median(), inplace=True)\n",
    "\n",
    "# Фильтрация данных по разумным значениям\n",
    "data = data[(data['RegistrationYear'] >= 1900) & (data['RegistrationYear'] <= 2024)]\n",
    "\n",
    "display(data.head())\n",
    "data.info()"
   ]
  },
  {
   "cell_type": "code",
   "execution_count": 6,
   "metadata": {},
   "outputs": [
    {
     "data": {
      "text/plain": [
       "array(['petrol', 'gasoline', 'lpg', 'other', 'hybrid', 'cng', 'electric'],\n",
       "      dtype=object)"
      ]
     },
     "execution_count": 6,
     "metadata": {},
     "output_type": "execute_result"
    }
   ],
   "source": [
    "data['FuelType'].unique()"
   ]
  },
  {
   "cell_type": "markdown",
   "metadata": {},
   "source": [
    "\"gasoline\" и \"petrol\" обозначают одно и то же топливо. В американском английском используется термин \"gasoline\", в то время как в британском английском предпочтительнее \"petrol\"."
   ]
  },
  {
   "cell_type": "code",
   "execution_count": 7,
   "metadata": {},
   "outputs": [
    {
     "name": "stdout",
     "output_type": "stream",
     "text": [
      "['gasoline' 'lpg' 'other' 'hybrid' 'cng' 'electric']\n"
     ]
    }
   ],
   "source": [
    "# Обновление категорий топлива\n",
    "data.loc[:, 'FuelType'] = data['FuelType'].replace({'petrol': 'gasoline'})\n",
    "\n",
    "# Проверка уникальных значений в категории FuelType\n",
    "print(data['FuelType'].unique())"
   ]
  },
  {
   "cell_type": "code",
   "execution_count": 8,
   "metadata": {},
   "outputs": [
    {
     "data": {
      "text/plain": [
       "array([2016])"
      ]
     },
     "execution_count": 8,
     "metadata": {},
     "output_type": "execute_result"
    }
   ],
   "source": [
    "# Преобразование столбца 'DateCrawled' в формат datetime\n",
    "data['DateCrawled'] = pd.to_datetime(data['DateCrawled'])\n",
    "\n",
    "# Извлечение года из столбца 'DateCrawled' и получение уникальных значений\n",
    "data['DateCrawled'].dt.year.unique()"
   ]
  },
  {
   "cell_type": "markdown",
   "metadata": {},
   "source": [
    "Выгрузка данных была в 2016 году."
   ]
  },
  {
   "cell_type": "code",
   "execution_count": 9,
   "metadata": {},
   "outputs": [],
   "source": [
    "pd.options.mode.chained_assignment = None\n",
    "categorical_columns = ['VehicleType', 'Gearbox', 'Model', 'FuelType', 'Brand', 'Repaired']\n",
    "\n",
    "# Предположим, что целевая переменная называется 'Price'\n",
    "target_column = 'Price'\n",
    "\n",
    "# Разделение данных на тренировочную и тестовую выборки\n",
    "train_data, test_data = train_test_split(data, test_size=0.2, random_state=42)\n",
    "\n",
    "# Преобразование дат в числовой формат\n",
    "def convert_dates(df):\n",
    "    df['DateCrawled'] = pd.to_datetime(df['DateCrawled']).astype(np.int64) / 10**9\n",
    "    df['DateCreated'] = pd.to_datetime(df['DateCreated']).astype(np.int64) / 10**9\n",
    "    df['LastSeen'] = pd.to_datetime(df['LastSeen']).astype(np.int64) / 10**9\n",
    "    return df\n",
    "\n",
    "# Применим преобразование дат\n",
    "train_data = convert_dates(train_data)\n",
    "test_data = convert_dates(test_data)\n",
    "\n",
    "# Кодирование категориальных признаков с использованием TargetEncoder\n",
    "target_encoder = TargetEncoder(cols=categorical_columns)\n",
    "\n",
    "train_data_encoded = train_data.copy()\n",
    "test_data_encoded = test_data.copy()\n",
    "\n",
    "train_data_encoded[categorical_columns] = target_encoder.fit_transform(train_data[categorical_columns], train_data[target_column])\n",
    "test_data_encoded[categorical_columns] = target_encoder.transform(test_data[categorical_columns])\n",
    "\n",
    "# Определение X_train, y_train, X_test, y_test \n",
    "X_train = train_data_encoded.drop(columns=target_column)\n",
    "y_train = train_data_encoded[target_column]\n",
    "\n",
    "X_test = test_data_encoded.drop(columns=target_column)\n",
    "y_test = test_data_encoded[target_column]"
   ]
  },
  {
   "cell_type": "markdown",
   "metadata": {},
   "source": [
    "## Обучение моделей"
   ]
  },
  {
   "cell_type": "code",
   "execution_count": 10,
   "metadata": {},
   "outputs": [],
   "source": [
    "# Функция для обучения модели и замера времени обучения\n",
    "def train_model(model, X_train, y_train):\n",
    "    start_time = time.time()\n",
    "    model.fit(X_train, y_train)\n",
    "    training_time = time.time() - start_time\n",
    "    return model, training_time\n",
    "\n",
    "# Функция для предсказания и замера времени предсказания\n",
    "def predict_model(model, X_train):\n",
    "    start_time = time.time()\n",
    "    predictions = model.predict(X_train)\n",
    "    prediction_time = time.time() - start_time\n",
    "    return predictions, prediction_time\n",
    "\n",
    "# Инициализация моделей с уменьшенными параметрами\n",
    "models = {\n",
    "    \"RandomForest\": RandomForestRegressor(n_estimators=10, random_state=42),  # Уменьшено количество деревьев\n",
    "    \"LightGBM\": lgb.LGBMRegressor(n_estimators=10, random_state=42),  # Уменьшено количество итераций\n",
    "    \"LinearRegression\": LinearRegression()\n",
    "}\n",
    "\n",
    "model_metrics = {}\n",
    "\n",
    "# Определение RMSE как отрицательной метрики для cross_val_score\n",
    "rmse_scorer = make_scorer(mean_squared_error, squared=False)\n",
    "\n",
    "# Уменьшено количество прогонов в кросс-валидации\n",
    "for name, model in models.items():\n",
    "    # Время обучения\n",
    "    trained_model, train_time = train_model(model, X_train, y_train)\n",
    "    \n",
    "    # Время предсказания\n",
    "    _, predict_time = predict_model(trained_model, X_train)  # Используем тренировочную выборку для измерения времени\n",
    "    \n",
    "    # RMSE с использованием кросс-валидации\n",
    "    rmse_cv = -cross_val_score(model, X_train, y_train, cv=3, scoring=rmse_scorer).mean()  # Уменьшено количество прогонов\n",
    "    \n",
    "    # Сохранение метрик модели\n",
    "    model_metrics[name] = {\n",
    "        \"model\": trained_model,\n",
    "        \"train_time\": train_time,\n",
    "        \"predict_time\": predict_time,\n",
    "        \"rmse_cv\": rmse_cv\n",
    "    }\n"
   ]
  },
  {
   "cell_type": "markdown",
   "metadata": {},
   "source": [
    "## Анализ моделей"
   ]
  },
  {
   "cell_type": "code",
   "execution_count": 11,
   "metadata": {
    "scrolled": true
   },
   "outputs": [
    {
     "name": "stdout",
     "output_type": "stream",
     "text": [
      "Наилучшая модель: LinearRegression\n",
      "Средний RMSE по кросс-валидации: -3155.9567416575896\n",
      "Время обучения: 0.27422022819519043\n",
      "Время предсказания: 0.017877817153930664\n",
      "Финальные результаты на тестовой выборке:\n",
      "RMSE: 3172.4799536066816\n",
      "Время обучения: 0.21182632446289062\n",
      "Время предсказания: 0.08204770088195801\n"
     ]
    }
   ],
   "source": [
    "# Анализ метрик и выбор лучшей модели\n",
    "best_model_name = min(model_metrics, key=lambda k: model_metrics[k]['rmse_cv'])\n",
    "best_model_info = model_metrics[best_model_name]\n",
    "\n",
    "print(f\"Наилучшая модель: {best_model_name}\")\n",
    "print(f\"Средний RMSE по кросс-валидации: {best_model_info['rmse_cv']}\")\n",
    "print(f\"Время обучения: {best_model_info['train_time']}\")\n",
    "print(f\"Время предсказания: {best_model_info['predict_time']}\")\n",
    "\n",
    "# Финальное тестирование на тестовой выборке\n",
    "start_time = time.time()\n",
    "best_model = best_model_info['model']\n",
    "best_model.fit(X_train, y_train)  # Обучаем модель на всех обучающих данных\n",
    "training_time_final = time.time() - start_time\n",
    "\n",
    "start_time = time.time()\n",
    "predictions = best_model.predict(X_test)\n",
    "prediction_time_final = time.time() - start_time\n",
    "\n",
    "rmse_final = mean_squared_error(y_test, predictions, squared=False)\n",
    "\n",
    "print(\"Финальные результаты на тестовой выборке:\")\n",
    "print(f\"RMSE: {rmse_final}\")\n",
    "print(f\"Время обучения: {training_time_final}\")\n",
    "print(f\"Время предсказания: {prediction_time_final}\")"
   ]
  },
  {
   "cell_type": "markdown",
   "metadata": {},
   "source": [
    "## Заключение\n",
    "\n",
    "Исходя из критериев заказчика (качество предсказания, скорость предсказания, время обучения) LinearRegression представляется наилучшим выбором для данной задачи, поскольку она обеспечивает приемлемое качество предсказания при более высокой скорости обучения и предсказания, что соответствует критериям заказчика."
   ]
  }
 ],
 "metadata": {
  "ExecuteTimeLog": [
   {
    "duration": 6,
    "start_time": "2024-07-15T00:06:10.662Z"
   },
   {
    "duration": 58,
    "start_time": "2024-07-15T00:06:10.670Z"
   },
   {
    "duration": 38,
    "start_time": "2024-07-15T00:06:10.729Z"
   },
   {
    "duration": 342,
    "start_time": "2024-07-15T00:06:39.630Z"
   },
   {
    "duration": 89,
    "start_time": "2024-07-15T00:06:39.974Z"
   },
   {
    "duration": 58,
    "start_time": "2024-07-15T00:06:40.064Z"
   },
   {
    "duration": 2631,
    "start_time": "2024-07-15T00:07:04.935Z"
   },
   {
    "duration": 209,
    "start_time": "2024-07-15T00:07:07.568Z"
   },
   {
    "duration": 437,
    "start_time": "2024-07-15T00:09:03.756Z"
   },
   {
    "duration": 16,
    "start_time": "2024-07-15T00:10:33.409Z"
   },
   {
    "duration": 362,
    "start_time": "2024-07-15T00:10:37.909Z"
   },
   {
    "duration": 693,
    "start_time": "2024-07-15T00:10:38.272Z"
   },
   {
    "duration": 238,
    "start_time": "2024-07-15T00:10:38.967Z"
   },
   {
    "duration": 724,
    "start_time": "2024-07-15T00:10:39.206Z"
   },
   {
    "duration": 371,
    "start_time": "2024-07-15T00:12:32.677Z"
   },
   {
    "duration": 701,
    "start_time": "2024-07-15T00:12:33.049Z"
   },
   {
    "duration": 208,
    "start_time": "2024-07-15T00:12:33.752Z"
   },
   {
    "duration": 652,
    "start_time": "2024-07-15T00:12:33.962Z"
   },
   {
    "duration": 1121,
    "start_time": "2024-07-15T00:12:34.616Z"
   },
   {
    "duration": 92,
    "start_time": "2024-07-15T00:12:35.739Z"
   },
   {
    "duration": 385994,
    "start_time": "2024-07-15T00:12:35.833Z"
   },
   {
    "duration": 91,
    "start_time": "2024-07-15T00:19:01.828Z"
   },
   {
    "duration": 1042,
    "start_time": "2024-07-15T00:22:47.853Z"
   },
   {
    "duration": 671,
    "start_time": "2024-07-15T00:22:48.897Z"
   },
   {
    "duration": 195,
    "start_time": "2024-07-15T00:22:49.569Z"
   },
   {
    "duration": 710,
    "start_time": "2024-07-15T00:22:49.765Z"
   },
   {
    "duration": 575,
    "start_time": "2024-07-15T00:22:50.476Z"
   },
   {
    "duration": 93,
    "start_time": "2024-07-15T00:22:51.052Z"
   },
   {
    "duration": 206456,
    "start_time": "2024-07-15T00:22:51.146Z"
   },
   {
    "duration": 98,
    "start_time": "2024-07-15T00:26:17.603Z"
   },
   {
    "duration": 1090,
    "start_time": "2024-07-15T23:41:51.128Z"
   },
   {
    "duration": 2748,
    "start_time": "2024-07-15T23:41:52.219Z"
   },
   {
    "duration": 194,
    "start_time": "2024-07-15T23:41:54.968Z"
   },
   {
    "duration": 697,
    "start_time": "2024-07-15T23:41:55.164Z"
   },
   {
    "duration": 564,
    "start_time": "2024-07-15T23:41:55.862Z"
   },
   {
    "duration": 88,
    "start_time": "2024-07-15T23:41:56.428Z"
   },
   {
    "duration": 94959,
    "start_time": "2024-07-15T23:41:56.517Z"
   },
   {
    "duration": 0,
    "start_time": "2024-07-15T23:43:31.478Z"
   },
   {
    "duration": 1,
    "start_time": "2024-07-15T23:43:31.478Z"
   },
   {
    "duration": 3,
    "start_time": "2024-07-15T23:43:36.806Z"
   },
   {
    "duration": 641,
    "start_time": "2024-07-15T23:43:37.371Z"
   },
   {
    "duration": 192,
    "start_time": "2024-07-15T23:43:38.014Z"
   },
   {
    "duration": 596,
    "start_time": "2024-07-15T23:43:38.207Z"
   },
   {
    "duration": 1058,
    "start_time": "2024-07-15T23:43:38.804Z"
   },
   {
    "duration": 30,
    "start_time": "2024-07-15T23:43:50.866Z"
   },
   {
    "duration": 18,
    "start_time": "2024-07-15T23:43:54.427Z"
   },
   {
    "duration": 243,
    "start_time": "2024-07-15T23:56:15.312Z"
   },
   {
    "duration": 237,
    "start_time": "2024-07-16T00:17:21.534Z"
   },
   {
    "duration": 183,
    "start_time": "2024-07-16T00:18:21.923Z"
   },
   {
    "duration": 1111,
    "start_time": "2024-07-16T00:18:36.309Z"
   },
   {
    "duration": 712,
    "start_time": "2024-07-16T00:18:37.421Z"
   },
   {
    "duration": 199,
    "start_time": "2024-07-16T00:18:38.134Z"
   },
   {
    "duration": 639,
    "start_time": "2024-07-16T00:18:38.334Z"
   },
   {
    "duration": 17,
    "start_time": "2024-07-16T00:18:45.367Z"
   },
   {
    "duration": 248,
    "start_time": "2024-07-16T00:19:07.459Z"
   },
   {
    "duration": 93,
    "start_time": "2024-07-16T00:20:21.768Z"
   },
   {
    "duration": 261,
    "start_time": "2024-07-16T00:23:38.065Z"
   },
   {
    "duration": 5,
    "start_time": "2024-07-16T00:25:09.517Z"
   },
   {
    "duration": 7,
    "start_time": "2024-07-16T00:25:28.582Z"
   },
   {
    "duration": 1121,
    "start_time": "2024-07-16T00:25:41.409Z"
   },
   {
    "duration": 704,
    "start_time": "2024-07-16T00:25:42.531Z"
   },
   {
    "duration": 204,
    "start_time": "2024-07-16T00:25:43.237Z"
   },
   {
    "duration": 640,
    "start_time": "2024-07-16T00:25:43.443Z"
   },
   {
    "duration": 24,
    "start_time": "2024-07-16T00:25:44.085Z"
   },
   {
    "duration": 253,
    "start_time": "2024-07-16T00:25:44.111Z"
   },
   {
    "duration": 5,
    "start_time": "2024-07-16T00:25:44.365Z"
   },
   {
    "duration": 92,
    "start_time": "2024-07-16T00:28:30.278Z"
   },
   {
    "duration": 84,
    "start_time": "2024-07-16T00:28:42.636Z"
   },
   {
    "duration": 23,
    "start_time": "2024-07-16T00:28:48.779Z"
   },
   {
    "duration": 53,
    "start_time": "2024-07-16T00:32:26.518Z"
   },
   {
    "duration": 7,
    "start_time": "2024-07-16T00:34:25.415Z"
   },
   {
    "duration": 8,
    "start_time": "2024-07-16T00:34:39.847Z"
   },
   {
    "duration": 4584,
    "start_time": "2024-07-16T00:36:42.110Z"
   },
   {
    "duration": 449,
    "start_time": "2024-07-16T00:36:47.833Z"
   },
   {
    "duration": 0,
    "start_time": "2024-07-16T00:38:05.765Z"
   },
   {
    "duration": 0,
    "start_time": "2024-07-16T00:38:05.766Z"
   },
   {
    "duration": 5507,
    "start_time": "2024-07-16T00:38:20.900Z"
   },
   {
    "duration": 2617,
    "start_time": "2024-07-16T00:38:26.409Z"
   },
   {
    "duration": 8815,
    "start_time": "2024-07-16T00:39:33.454Z"
   },
   {
    "duration": 29,
    "start_time": "2024-07-16T00:39:42.271Z"
   },
   {
    "duration": 19550,
    "start_time": "2024-07-16T00:40:39.816Z"
   },
   {
    "duration": 28,
    "start_time": "2024-07-16T00:40:59.368Z"
   },
   {
    "duration": 4235,
    "start_time": "2024-07-16T00:41:36.944Z"
   },
   {
    "duration": 659,
    "start_time": "2024-07-16T00:41:41.181Z"
   },
   {
    "duration": 8051,
    "start_time": "2024-07-16T00:42:25.533Z"
   },
   {
    "duration": 654,
    "start_time": "2024-07-16T00:42:33.586Z"
   },
   {
    "duration": 3997,
    "start_time": "2024-07-16T00:43:06.633Z"
   },
   {
    "duration": 594,
    "start_time": "2024-07-16T00:43:10.632Z"
   },
   {
    "duration": 9929,
    "start_time": "2024-07-16T00:44:04.798Z"
   },
   {
    "duration": 52558,
    "start_time": "2024-07-16T00:45:17.458Z"
   },
   {
    "duration": 0,
    "start_time": "2024-07-16T00:48:39.121Z"
   },
   {
    "duration": 92109,
    "start_time": "2024-07-16T00:48:44.342Z"
   },
   {
    "duration": 0,
    "start_time": "2024-07-16T00:52:10.937Z"
   },
   {
    "duration": 86311,
    "start_time": "2024-07-16T00:53:14.148Z"
   },
   {
    "duration": 80105,
    "start_time": "2024-07-16T00:55:19.182Z"
   },
   {
    "duration": 1293,
    "start_time": "2024-07-18T22:45:59.433Z"
   },
   {
    "duration": 3006,
    "start_time": "2024-07-18T22:46:00.728Z"
   },
   {
    "duration": 264,
    "start_time": "2024-07-18T22:46:03.735Z"
   },
   {
    "duration": 914,
    "start_time": "2024-07-18T22:46:04.001Z"
   },
   {
    "duration": 30,
    "start_time": "2024-07-18T22:46:04.916Z"
   },
   {
    "duration": 126,
    "start_time": "2024-07-18T22:46:04.948Z"
   },
   {
    "duration": 150,
    "start_time": "2024-07-18T22:46:05.076Z"
   },
   {
    "duration": 113,
    "start_time": "2024-07-18T22:46:05.227Z"
   },
   {
    "duration": 0,
    "start_time": "2024-07-18T22:46:05.346Z"
   },
   {
    "duration": 0,
    "start_time": "2024-07-18T22:46:05.347Z"
   },
   {
    "duration": 0,
    "start_time": "2024-07-18T22:46:05.348Z"
   },
   {
    "duration": 0,
    "start_time": "2024-07-18T22:46:05.349Z"
   },
   {
    "duration": 1105,
    "start_time": "2024-07-29T21:11:33.329Z"
   },
   {
    "duration": 1118,
    "start_time": "2024-07-29T21:11:34.435Z"
   },
   {
    "duration": 233,
    "start_time": "2024-07-29T21:11:35.555Z"
   },
   {
    "duration": 791,
    "start_time": "2024-07-29T21:11:35.791Z"
   },
   {
    "duration": 21,
    "start_time": "2024-07-29T21:11:36.583Z"
   },
   {
    "duration": 52,
    "start_time": "2024-07-29T21:11:36.605Z"
   },
   {
    "duration": 145,
    "start_time": "2024-07-29T21:11:36.658Z"
   },
   {
    "duration": 102,
    "start_time": "2024-07-29T21:11:36.805Z"
   },
   {
    "duration": 0,
    "start_time": "2024-07-29T21:11:36.908Z"
   },
   {
    "duration": 0,
    "start_time": "2024-07-29T21:11:36.910Z"
   },
   {
    "duration": 0,
    "start_time": "2024-07-29T21:11:36.910Z"
   },
   {
    "duration": 0,
    "start_time": "2024-07-29T21:11:36.911Z"
   },
   {
    "duration": 1112,
    "start_time": "2024-07-29T21:12:11.817Z"
   },
   {
    "duration": 811,
    "start_time": "2024-07-29T21:12:12.930Z"
   },
   {
    "duration": 229,
    "start_time": "2024-07-29T21:12:13.743Z"
   },
   {
    "duration": 820,
    "start_time": "2024-07-29T21:12:13.982Z"
   },
   {
    "duration": 22,
    "start_time": "2024-07-29T21:12:14.803Z"
   },
   {
    "duration": 69,
    "start_time": "2024-07-29T21:12:14.827Z"
   },
   {
    "duration": 132,
    "start_time": "2024-07-29T21:12:14.897Z"
   },
   {
    "duration": 546,
    "start_time": "2024-07-29T21:12:15.030Z"
   },
   {
    "duration": 101,
    "start_time": "2024-07-29T21:12:15.581Z"
   },
   {
    "duration": 202000,
    "start_time": "2024-07-29T21:12:15.684Z"
   },
   {
    "duration": 101,
    "start_time": "2024-07-29T21:15:37.687Z"
   },
   {
    "duration": 160,
    "start_time": "2024-07-29T21:16:25.170Z"
   },
   {
    "duration": 1154,
    "start_time": "2024-07-29T21:16:33.351Z"
   },
   {
    "duration": 805,
    "start_time": "2024-07-29T21:16:34.507Z"
   },
   {
    "duration": 235,
    "start_time": "2024-07-29T21:16:35.314Z"
   },
   {
    "duration": 831,
    "start_time": "2024-07-29T21:16:35.551Z"
   },
   {
    "duration": 19,
    "start_time": "2024-07-29T21:16:36.384Z"
   },
   {
    "duration": 49,
    "start_time": "2024-07-29T21:16:36.405Z"
   },
   {
    "duration": 115,
    "start_time": "2024-07-29T21:16:36.456Z"
   },
   {
    "duration": 258,
    "start_time": "2024-07-29T21:16:36.572Z"
   },
   {
    "duration": 0,
    "start_time": "2024-07-29T21:16:36.832Z"
   },
   {
    "duration": 0,
    "start_time": "2024-07-29T21:16:36.834Z"
   },
   {
    "duration": 0,
    "start_time": "2024-07-29T21:16:36.835Z"
   },
   {
    "duration": 13,
    "start_time": "2024-07-29T21:17:34.661Z"
   },
   {
    "duration": 3071,
    "start_time": "2024-07-29T21:18:08.985Z"
   },
   {
    "duration": 9242,
    "start_time": "2024-07-29T21:18:12.058Z"
   },
   {
    "duration": 8230,
    "start_time": "2024-07-29T21:19:39.185Z"
   },
   {
    "duration": 2249,
    "start_time": "2024-07-29T21:20:49.851Z"
   },
   {
    "duration": 1291,
    "start_time": "2024-07-29T21:20:52.103Z"
   },
   {
    "duration": 823,
    "start_time": "2024-07-29T21:20:53.396Z"
   },
   {
    "duration": 245,
    "start_time": "2024-07-29T21:20:54.220Z"
   },
   {
    "duration": 803,
    "start_time": "2024-07-29T21:20:54.467Z"
   },
   {
    "duration": 24,
    "start_time": "2024-07-29T21:20:55.271Z"
   },
   {
    "duration": 51,
    "start_time": "2024-07-29T21:20:55.296Z"
   },
   {
    "duration": 143,
    "start_time": "2024-07-29T21:20:55.348Z"
   },
   {
    "duration": 8218,
    "start_time": "2024-07-29T21:20:55.492Z"
   },
   {
    "duration": 153,
    "start_time": "2024-07-29T21:21:03.711Z"
   },
   {
    "duration": 1020,
    "start_time": "2024-07-29T21:21:03.865Z"
   },
   {
    "duration": 0,
    "start_time": "2024-07-29T21:21:04.887Z"
   },
   {
    "duration": 61,
    "start_time": "2024-07-29T21:22:05.810Z"
   },
   {
    "duration": 2279,
    "start_time": "2024-07-29T21:23:29.278Z"
   },
   {
    "duration": 1319,
    "start_time": "2024-07-29T21:23:31.559Z"
   },
   {
    "duration": 863,
    "start_time": "2024-07-29T21:23:32.880Z"
   },
   {
    "duration": 249,
    "start_time": "2024-07-29T21:23:33.745Z"
   },
   {
    "duration": 799,
    "start_time": "2024-07-29T21:23:33.996Z"
   },
   {
    "duration": 20,
    "start_time": "2024-07-29T21:23:34.796Z"
   },
   {
    "duration": 67,
    "start_time": "2024-07-29T21:23:34.818Z"
   },
   {
    "duration": 135,
    "start_time": "2024-07-29T21:23:34.887Z"
   },
   {
    "duration": 8110,
    "start_time": "2024-07-29T21:23:35.023Z"
   },
   {
    "duration": 876,
    "start_time": "2024-07-29T21:23:43.135Z"
   },
   {
    "duration": 0,
    "start_time": "2024-07-29T21:23:44.013Z"
   },
   {
    "duration": 18,
    "start_time": "2024-07-29T21:24:58.574Z"
   },
   {
    "duration": 15,
    "start_time": "2024-07-29T21:25:58.824Z"
   },
   {
    "duration": 3,
    "start_time": "2024-07-29T21:26:29.450Z"
   },
   {
    "duration": 3992,
    "start_time": "2024-07-29T21:26:37.581Z"
   },
   {
    "duration": 4,
    "start_time": "2024-07-29T21:27:05.737Z"
   },
   {
    "duration": 2244,
    "start_time": "2024-07-29T21:30:17.821Z"
   },
   {
    "duration": 1310,
    "start_time": "2024-07-29T21:30:20.067Z"
   },
   {
    "duration": 1097,
    "start_time": "2024-07-29T21:30:21.378Z"
   },
   {
    "duration": 239,
    "start_time": "2024-07-29T21:30:22.478Z"
   },
   {
    "duration": 788,
    "start_time": "2024-07-29T21:30:22.719Z"
   },
   {
    "duration": 21,
    "start_time": "2024-07-29T21:30:23.509Z"
   },
   {
    "duration": 73,
    "start_time": "2024-07-29T21:30:23.532Z"
   },
   {
    "duration": 132,
    "start_time": "2024-07-29T21:30:23.607Z"
   },
   {
    "duration": 8614,
    "start_time": "2024-07-29T21:30:23.741Z"
   },
   {
    "duration": 48,
    "start_time": "2024-07-29T21:32:27.969Z"
   },
   {
    "duration": 2211,
    "start_time": "2024-07-29T21:32:33.838Z"
   },
   {
    "duration": 1317,
    "start_time": "2024-07-29T21:32:36.052Z"
   },
   {
    "duration": 1105,
    "start_time": "2024-07-29T21:32:37.370Z"
   },
   {
    "duration": 240,
    "start_time": "2024-07-29T21:32:38.477Z"
   },
   {
    "duration": 798,
    "start_time": "2024-07-29T21:32:38.719Z"
   },
   {
    "duration": 21,
    "start_time": "2024-07-29T21:32:39.518Z"
   },
   {
    "duration": 67,
    "start_time": "2024-07-29T21:32:39.541Z"
   },
   {
    "duration": 138,
    "start_time": "2024-07-29T21:32:39.610Z"
   },
   {
    "duration": 8171,
    "start_time": "2024-07-29T21:32:39.750Z"
   },
   {
    "duration": 43,
    "start_time": "2024-07-29T21:35:10.414Z"
   },
   {
    "duration": 2357,
    "start_time": "2024-07-29T21:35:15.493Z"
   },
   {
    "duration": 1343,
    "start_time": "2024-07-29T21:35:17.853Z"
   },
   {
    "duration": 1202,
    "start_time": "2024-07-29T21:35:19.198Z"
   },
   {
    "duration": 250,
    "start_time": "2024-07-29T21:35:20.402Z"
   },
   {
    "duration": 868,
    "start_time": "2024-07-29T21:35:20.653Z"
   },
   {
    "duration": 19,
    "start_time": "2024-07-29T21:35:21.523Z"
   },
   {
    "duration": 70,
    "start_time": "2024-07-29T21:35:21.543Z"
   },
   {
    "duration": 140,
    "start_time": "2024-07-29T21:35:21.615Z"
   },
   {
    "duration": 8253,
    "start_time": "2024-07-29T21:35:21.757Z"
   },
   {
    "duration": 4,
    "start_time": "2024-07-29T21:35:30.012Z"
   },
   {
    "duration": 2364,
    "start_time": "2024-07-29T21:37:40.856Z"
   },
   {
    "duration": 1349,
    "start_time": "2024-07-29T21:37:43.222Z"
   },
   {
    "duration": 1166,
    "start_time": "2024-07-29T21:37:44.573Z"
   },
   {
    "duration": 262,
    "start_time": "2024-07-29T21:37:45.741Z"
   },
   {
    "duration": 867,
    "start_time": "2024-07-29T21:37:46.006Z"
   },
   {
    "duration": 28,
    "start_time": "2024-07-29T21:37:46.882Z"
   },
   {
    "duration": 53,
    "start_time": "2024-07-29T21:37:46.911Z"
   },
   {
    "duration": 152,
    "start_time": "2024-07-29T21:37:46.966Z"
   },
   {
    "duration": 595,
    "start_time": "2024-07-29T21:37:47.119Z"
   },
   {
    "duration": 49692,
    "start_time": "2024-07-29T21:37:47.716Z"
   },
   {
    "duration": 0,
    "start_time": "2024-07-29T21:38:37.410Z"
   },
   {
    "duration": 940,
    "start_time": "2024-07-29T21:38:59.002Z"
   },
   {
    "duration": 2351,
    "start_time": "2024-07-29T21:39:05.723Z"
   },
   {
    "duration": 1345,
    "start_time": "2024-07-29T21:39:08.077Z"
   },
   {
    "duration": 925,
    "start_time": "2024-07-29T21:39:09.423Z"
   },
   {
    "duration": 262,
    "start_time": "2024-07-29T21:39:10.350Z"
   },
   {
    "duration": 843,
    "start_time": "2024-07-29T21:39:10.614Z"
   },
   {
    "duration": 31,
    "start_time": "2024-07-29T21:39:11.459Z"
   },
   {
    "duration": 56,
    "start_time": "2024-07-29T21:39:11.493Z"
   },
   {
    "duration": 161,
    "start_time": "2024-07-29T21:39:11.551Z"
   },
   {
    "duration": 598,
    "start_time": "2024-07-29T21:39:11.714Z"
   },
   {
    "duration": 13091,
    "start_time": "2024-07-29T21:39:12.314Z"
   },
   {
    "duration": 0,
    "start_time": "2024-07-29T21:39:25.407Z"
   },
   {
    "duration": 865,
    "start_time": "2024-07-29T21:39:54.507Z"
   },
   {
    "duration": 2342,
    "start_time": "2024-07-29T21:39:59.419Z"
   },
   {
    "duration": 1285,
    "start_time": "2024-07-29T21:40:01.764Z"
   },
   {
    "duration": 833,
    "start_time": "2024-07-29T21:40:03.050Z"
   },
   {
    "duration": 235,
    "start_time": "2024-07-29T21:40:03.884Z"
   },
   {
    "duration": 787,
    "start_time": "2024-07-29T21:40:04.121Z"
   },
   {
    "duration": 19,
    "start_time": "2024-07-29T21:40:04.910Z"
   },
   {
    "duration": 62,
    "start_time": "2024-07-29T21:40:04.930Z"
   },
   {
    "duration": 132,
    "start_time": "2024-07-29T21:40:04.994Z"
   },
   {
    "duration": 538,
    "start_time": "2024-07-29T21:40:05.127Z"
   },
   {
    "duration": 2252,
    "start_time": "2024-07-29T21:41:29.370Z"
   },
   {
    "duration": 1206,
    "start_time": "2024-07-29T21:41:31.624Z"
   },
   {
    "duration": 814,
    "start_time": "2024-07-29T21:41:32.832Z"
   },
   {
    "duration": 245,
    "start_time": "2024-07-29T21:41:33.648Z"
   },
   {
    "duration": 764,
    "start_time": "2024-07-29T21:41:33.894Z"
   },
   {
    "duration": 30,
    "start_time": "2024-07-29T21:41:34.659Z"
   },
   {
    "duration": 51,
    "start_time": "2024-07-29T21:41:34.690Z"
   },
   {
    "duration": 141,
    "start_time": "2024-07-29T21:41:34.743Z"
   },
   {
    "duration": 1514,
    "start_time": "2024-07-29T21:41:34.886Z"
   },
   {
    "duration": 0,
    "start_time": "2024-07-29T21:41:36.402Z"
   },
   {
    "duration": 0,
    "start_time": "2024-07-29T21:41:36.403Z"
   },
   {
    "duration": 2216,
    "start_time": "2024-07-29T21:42:18.512Z"
   },
   {
    "duration": 1205,
    "start_time": "2024-07-29T21:42:20.731Z"
   },
   {
    "duration": 811,
    "start_time": "2024-07-29T21:42:21.937Z"
   },
   {
    "duration": 256,
    "start_time": "2024-07-29T21:42:22.750Z"
   },
   {
    "duration": 780,
    "start_time": "2024-07-29T21:42:23.008Z"
   },
   {
    "duration": 19,
    "start_time": "2024-07-29T21:42:23.789Z"
   },
   {
    "duration": 54,
    "start_time": "2024-07-29T21:42:23.810Z"
   },
   {
    "duration": 141,
    "start_time": "2024-07-29T21:42:23.865Z"
   },
   {
    "duration": 2483,
    "start_time": "2024-07-29T21:42:24.007Z"
   },
   {
    "duration": 0,
    "start_time": "2024-07-29T21:42:26.492Z"
   },
   {
    "duration": 0,
    "start_time": "2024-07-29T21:42:26.493Z"
   },
   {
    "duration": 2190,
    "start_time": "2024-07-29T21:43:54.879Z"
   },
   {
    "duration": 1255,
    "start_time": "2024-07-29T21:43:57.071Z"
   },
   {
    "duration": 826,
    "start_time": "2024-07-29T21:43:58.328Z"
   },
   {
    "duration": 250,
    "start_time": "2024-07-29T21:43:59.156Z"
   },
   {
    "duration": 831,
    "start_time": "2024-07-29T21:43:59.408Z"
   },
   {
    "duration": 43,
    "start_time": "2024-07-29T21:44:00.241Z"
   },
   {
    "duration": 66,
    "start_time": "2024-07-29T21:44:00.285Z"
   },
   {
    "duration": 129,
    "start_time": "2024-07-29T21:44:00.353Z"
   },
   {
    "duration": 2895,
    "start_time": "2024-07-29T21:44:00.483Z"
   },
   {
    "duration": 2261,
    "start_time": "2024-07-29T21:45:08.526Z"
   },
   {
    "duration": 1255,
    "start_time": "2024-07-29T21:45:10.789Z"
   },
   {
    "duration": 839,
    "start_time": "2024-07-29T21:45:12.046Z"
   },
   {
    "duration": 250,
    "start_time": "2024-07-29T21:45:12.887Z"
   },
   {
    "duration": 809,
    "start_time": "2024-07-29T21:45:13.139Z"
   },
   {
    "duration": 20,
    "start_time": "2024-07-29T21:45:13.949Z"
   },
   {
    "duration": 61,
    "start_time": "2024-07-29T21:45:13.970Z"
   },
   {
    "duration": 131,
    "start_time": "2024-07-29T21:45:14.032Z"
   },
   {
    "duration": 2869,
    "start_time": "2024-07-29T21:45:14.164Z"
   },
   {
    "duration": 24638,
    "start_time": "2024-07-29T21:45:17.035Z"
   },
   {
    "duration": 0,
    "start_time": "2024-07-29T21:45:41.682Z"
   },
   {
    "duration": 2219,
    "start_time": "2024-07-29T21:47:25.429Z"
   },
   {
    "duration": 1201,
    "start_time": "2024-07-29T21:47:27.650Z"
   },
   {
    "duration": 830,
    "start_time": "2024-07-29T21:47:28.853Z"
   },
   {
    "duration": 237,
    "start_time": "2024-07-29T21:47:29.684Z"
   },
   {
    "duration": 830,
    "start_time": "2024-07-29T21:47:29.922Z"
   },
   {
    "duration": 33,
    "start_time": "2024-07-29T21:47:30.754Z"
   },
   {
    "duration": 108,
    "start_time": "2024-07-29T21:47:30.788Z"
   },
   {
    "duration": 127,
    "start_time": "2024-07-29T21:47:30.897Z"
   },
   {
    "duration": 2910,
    "start_time": "2024-07-29T21:47:31.026Z"
   },
   {
    "duration": 2265,
    "start_time": "2024-07-29T21:49:32.014Z"
   },
   {
    "duration": 1239,
    "start_time": "2024-07-29T21:49:34.281Z"
   },
   {
    "duration": 815,
    "start_time": "2024-07-29T21:49:35.521Z"
   },
   {
    "duration": 238,
    "start_time": "2024-07-29T21:49:36.337Z"
   },
   {
    "duration": 805,
    "start_time": "2024-07-29T21:49:36.583Z"
   },
   {
    "duration": 20,
    "start_time": "2024-07-29T21:49:37.390Z"
   },
   {
    "duration": 51,
    "start_time": "2024-07-29T21:49:37.411Z"
   },
   {
    "duration": 142,
    "start_time": "2024-07-29T21:49:37.463Z"
   },
   {
    "duration": 2837,
    "start_time": "2024-07-29T21:49:37.606Z"
   },
   {
    "duration": 2169,
    "start_time": "2024-07-29T21:51:40.930Z"
   },
   {
    "duration": 1248,
    "start_time": "2024-07-29T21:51:43.102Z"
   },
   {
    "duration": 816,
    "start_time": "2024-07-29T21:51:44.351Z"
   },
   {
    "duration": 245,
    "start_time": "2024-07-29T21:51:45.169Z"
   },
   {
    "duration": 800,
    "start_time": "2024-07-29T21:51:45.416Z"
   },
   {
    "duration": 20,
    "start_time": "2024-07-29T21:51:46.217Z"
   },
   {
    "duration": 67,
    "start_time": "2024-07-29T21:51:46.238Z"
   },
   {
    "duration": 130,
    "start_time": "2024-07-29T21:51:46.306Z"
   },
   {
    "duration": 2824,
    "start_time": "2024-07-29T21:51:46.437Z"
   },
   {
    "duration": 2210,
    "start_time": "2024-07-29T21:54:02.762Z"
   },
   {
    "duration": 1271,
    "start_time": "2024-07-29T21:54:04.975Z"
   },
   {
    "duration": 817,
    "start_time": "2024-07-29T21:54:06.248Z"
   },
   {
    "duration": 247,
    "start_time": "2024-07-29T21:54:07.067Z"
   },
   {
    "duration": 805,
    "start_time": "2024-07-29T21:54:07.316Z"
   },
   {
    "duration": 21,
    "start_time": "2024-07-29T21:54:08.122Z"
   },
   {
    "duration": 68,
    "start_time": "2024-07-29T21:54:08.145Z"
   },
   {
    "duration": 133,
    "start_time": "2024-07-29T21:54:08.214Z"
   },
   {
    "duration": 1063,
    "start_time": "2024-07-29T21:54:08.348Z"
   },
   {
    "duration": 0,
    "start_time": "2024-07-29T21:54:09.413Z"
   },
   {
    "duration": 0,
    "start_time": "2024-07-29T21:54:09.414Z"
   },
   {
    "duration": 2273,
    "start_time": "2024-07-29T21:55:05.774Z"
   },
   {
    "duration": 1194,
    "start_time": "2024-07-29T21:55:08.049Z"
   },
   {
    "duration": 845,
    "start_time": "2024-07-29T21:55:09.244Z"
   },
   {
    "duration": 276,
    "start_time": "2024-07-29T21:55:10.090Z"
   },
   {
    "duration": 791,
    "start_time": "2024-07-29T21:55:10.368Z"
   },
   {
    "duration": 34,
    "start_time": "2024-07-29T21:55:11.161Z"
   },
   {
    "duration": 50,
    "start_time": "2024-07-29T21:55:11.196Z"
   },
   {
    "duration": 140,
    "start_time": "2024-07-29T21:55:11.247Z"
   },
   {
    "duration": 3339,
    "start_time": "2024-07-29T21:55:11.388Z"
   },
   {
    "duration": 0,
    "start_time": "2024-07-29T21:55:14.729Z"
   },
   {
    "duration": 0,
    "start_time": "2024-07-29T21:55:14.731Z"
   },
   {
    "duration": 5586,
    "start_time": "2024-07-29T21:56:00.242Z"
   },
   {
    "duration": 22,
    "start_time": "2024-07-29T21:56:53.012Z"
   },
   {
    "duration": 2204,
    "start_time": "2024-07-29T21:57:03.045Z"
   },
   {
    "duration": 1251,
    "start_time": "2024-07-29T21:57:05.252Z"
   },
   {
    "duration": 827,
    "start_time": "2024-07-29T21:57:06.505Z"
   },
   {
    "duration": 235,
    "start_time": "2024-07-29T21:57:07.334Z"
   },
   {
    "duration": 790,
    "start_time": "2024-07-29T21:57:07.571Z"
   },
   {
    "duration": 30,
    "start_time": "2024-07-29T21:57:08.363Z"
   },
   {
    "duration": 52,
    "start_time": "2024-07-29T21:57:08.395Z"
   },
   {
    "duration": 135,
    "start_time": "2024-07-29T21:57:08.448Z"
   },
   {
    "duration": 129,
    "start_time": "2024-07-29T21:57:08.585Z"
   },
   {
    "duration": 0,
    "start_time": "2024-07-29T21:57:08.715Z"
   },
   {
    "duration": 0,
    "start_time": "2024-07-29T21:57:08.716Z"
   },
   {
    "duration": 18,
    "start_time": "2024-07-29T21:57:50.334Z"
   },
   {
    "duration": 2214,
    "start_time": "2024-07-29T21:57:56.677Z"
   },
   {
    "duration": 1244,
    "start_time": "2024-07-29T21:57:58.894Z"
   },
   {
    "duration": 846,
    "start_time": "2024-07-29T21:58:00.139Z"
   },
   {
    "duration": 240,
    "start_time": "2024-07-29T21:58:00.987Z"
   },
   {
    "duration": 819,
    "start_time": "2024-07-29T21:58:01.228Z"
   },
   {
    "duration": 34,
    "start_time": "2024-07-29T21:58:02.048Z"
   },
   {
    "duration": 51,
    "start_time": "2024-07-29T21:58:02.083Z"
   },
   {
    "duration": 131,
    "start_time": "2024-07-29T21:58:02.136Z"
   },
   {
    "duration": 5545,
    "start_time": "2024-07-29T21:58:02.269Z"
   },
   {
    "duration": 110,
    "start_time": "2024-07-29T21:58:07.816Z"
   },
   {
    "duration": 0,
    "start_time": "2024-07-29T21:58:07.927Z"
   },
   {
    "duration": 5489,
    "start_time": "2024-07-29T21:59:25.987Z"
   },
   {
    "duration": 2234,
    "start_time": "2024-07-29T21:59:38.097Z"
   },
   {
    "duration": 1193,
    "start_time": "2024-07-29T21:59:40.333Z"
   },
   {
    "duration": 819,
    "start_time": "2024-07-29T21:59:41.529Z"
   },
   {
    "duration": 248,
    "start_time": "2024-07-29T21:59:42.350Z"
   },
   {
    "duration": 784,
    "start_time": "2024-07-29T21:59:42.599Z"
   },
   {
    "duration": 20,
    "start_time": "2024-07-29T21:59:43.384Z"
   },
   {
    "duration": 51,
    "start_time": "2024-07-29T21:59:43.406Z"
   },
   {
    "duration": 142,
    "start_time": "2024-07-29T21:59:43.458Z"
   },
   {
    "duration": 5493,
    "start_time": "2024-07-29T21:59:43.602Z"
   },
   {
    "duration": 108,
    "start_time": "2024-07-29T21:59:49.096Z"
   },
   {
    "duration": 0,
    "start_time": "2024-07-29T21:59:49.205Z"
   },
   {
    "duration": 2204,
    "start_time": "2024-07-29T22:01:01.762Z"
   },
   {
    "duration": 1255,
    "start_time": "2024-07-29T22:01:03.968Z"
   },
   {
    "duration": 806,
    "start_time": "2024-07-29T22:01:05.225Z"
   },
   {
    "duration": 237,
    "start_time": "2024-07-29T22:01:06.032Z"
   },
   {
    "duration": 789,
    "start_time": "2024-07-29T22:01:06.271Z"
   },
   {
    "duration": 30,
    "start_time": "2024-07-29T22:01:07.061Z"
   },
   {
    "duration": 63,
    "start_time": "2024-07-29T22:01:07.093Z"
   },
   {
    "duration": 147,
    "start_time": "2024-07-29T22:01:07.157Z"
   },
   {
    "duration": 5418,
    "start_time": "2024-07-29T22:01:07.306Z"
   },
   {
    "duration": 107,
    "start_time": "2024-07-29T22:01:12.725Z"
   },
   {
    "duration": 0,
    "start_time": "2024-07-29T22:01:12.833Z"
   },
   {
    "duration": 2206,
    "start_time": "2024-07-29T22:12:27.244Z"
   },
   {
    "duration": 1289,
    "start_time": "2024-07-29T22:12:29.452Z"
   },
   {
    "duration": 827,
    "start_time": "2024-07-29T22:12:30.743Z"
   },
   {
    "duration": 253,
    "start_time": "2024-07-29T22:12:31.572Z"
   },
   {
    "duration": 785,
    "start_time": "2024-07-29T22:12:31.827Z"
   },
   {
    "duration": 30,
    "start_time": "2024-07-29T22:12:32.614Z"
   },
   {
    "duration": 76,
    "start_time": "2024-07-29T22:12:32.646Z"
   },
   {
    "duration": 130,
    "start_time": "2024-07-29T22:12:32.724Z"
   },
   {
    "duration": 5585,
    "start_time": "2024-07-29T22:12:32.856Z"
   },
   {
    "duration": 107,
    "start_time": "2024-07-29T22:12:38.443Z"
   },
   {
    "duration": 0,
    "start_time": "2024-07-29T22:12:38.552Z"
   },
   {
    "duration": 3200,
    "start_time": "2024-07-30T20:21:28.133Z"
   },
   {
    "duration": 1277,
    "start_time": "2024-07-30T20:21:31.335Z"
   },
   {
    "duration": 1199,
    "start_time": "2024-07-30T20:21:32.614Z"
   },
   {
    "duration": 257,
    "start_time": "2024-07-30T20:21:33.815Z"
   },
   {
    "duration": 889,
    "start_time": "2024-07-30T20:21:34.074Z"
   },
   {
    "duration": 26,
    "start_time": "2024-07-30T20:21:34.965Z"
   },
   {
    "duration": 55,
    "start_time": "2024-07-30T20:21:34.992Z"
   },
   {
    "duration": 153,
    "start_time": "2024-07-30T20:21:35.048Z"
   },
   {
    "duration": 6301,
    "start_time": "2024-07-30T20:21:35.202Z"
   },
   {
    "duration": 15519,
    "start_time": "2024-07-30T20:21:41.506Z"
   },
   {
    "duration": 0,
    "start_time": "2024-07-30T20:21:57.026Z"
   },
   {
    "duration": 6048,
    "start_time": "2024-07-30T20:22:44.102Z"
   },
   {
    "duration": 2512,
    "start_time": "2024-07-30T20:25:08.648Z"
   },
   {
    "duration": 1346,
    "start_time": "2024-07-30T20:25:11.163Z"
   },
   {
    "duration": 912,
    "start_time": "2024-07-30T20:25:12.511Z"
   },
   {
    "duration": 275,
    "start_time": "2024-07-30T20:25:13.424Z"
   },
   {
    "duration": 878,
    "start_time": "2024-07-30T20:25:13.701Z"
   },
   {
    "duration": 23,
    "start_time": "2024-07-30T20:25:14.585Z"
   },
   {
    "duration": 72,
    "start_time": "2024-07-30T20:25:14.610Z"
   },
   {
    "duration": 146,
    "start_time": "2024-07-30T20:25:14.683Z"
   },
   {
    "duration": 6489,
    "start_time": "2024-07-30T20:25:14.831Z"
   },
   {
    "duration": 14164,
    "start_time": "2024-07-30T20:25:21.321Z"
   },
   {
    "duration": 1776,
    "start_time": "2024-07-30T20:25:35.487Z"
   },
   {
    "duration": 2302,
    "start_time": "2024-07-30T20:27:49.141Z"
   },
   {
    "duration": 1225,
    "start_time": "2024-07-30T20:27:51.446Z"
   },
   {
    "duration": 834,
    "start_time": "2024-07-30T20:27:52.672Z"
   },
   {
    "duration": 252,
    "start_time": "2024-07-30T20:27:53.508Z"
   },
   {
    "duration": 835,
    "start_time": "2024-07-30T20:27:53.762Z"
   },
   {
    "duration": 21,
    "start_time": "2024-07-30T20:27:54.599Z"
   },
   {
    "duration": 66,
    "start_time": "2024-07-30T20:27:54.621Z"
   },
   {
    "duration": 136,
    "start_time": "2024-07-30T20:27:54.688Z"
   },
   {
    "duration": 5815,
    "start_time": "2024-07-30T20:27:54.825Z"
   },
   {
    "duration": 1066546,
    "start_time": "2024-07-30T20:28:00.641Z"
   },
   {
    "duration": 271857,
    "start_time": "2024-07-30T20:45:47.189Z"
   },
   {
    "duration": 2416,
    "start_time": "2024-07-30T20:52:27.653Z"
   },
   {
    "duration": 1317,
    "start_time": "2024-07-30T20:52:30.072Z"
   },
   {
    "duration": 871,
    "start_time": "2024-07-30T20:52:31.391Z"
   },
   {
    "duration": 263,
    "start_time": "2024-07-30T20:52:32.264Z"
   },
   {
    "duration": 830,
    "start_time": "2024-07-30T20:52:32.528Z"
   },
   {
    "duration": 29,
    "start_time": "2024-07-30T20:52:33.360Z"
   },
   {
    "duration": 53,
    "start_time": "2024-07-30T20:52:33.390Z"
   },
   {
    "duration": 147,
    "start_time": "2024-07-30T20:52:33.445Z"
   },
   {
    "duration": 5932,
    "start_time": "2024-07-30T20:52:33.594Z"
   },
   {
    "duration": 1111756,
    "start_time": "2024-07-30T20:52:39.529Z"
   },
   {
    "duration": 274441,
    "start_time": "2024-07-30T21:11:11.291Z"
   },
   {
    "duration": 3405,
    "start_time": "2024-07-31T10:04:07.157Z"
   },
   {
    "duration": 3764,
    "start_time": "2024-07-31T10:04:10.565Z"
   },
   {
    "duration": 2964,
    "start_time": "2024-07-31T10:04:14.331Z"
   },
   {
    "duration": 268,
    "start_time": "2024-07-31T10:04:17.297Z"
   },
   {
    "duration": 908,
    "start_time": "2024-07-31T10:04:17.566Z"
   },
   {
    "duration": 28,
    "start_time": "2024-07-31T10:04:18.475Z"
   },
   {
    "duration": 89,
    "start_time": "2024-07-31T10:04:18.505Z"
   },
   {
    "duration": 148,
    "start_time": "2024-07-31T10:04:18.596Z"
   },
   {
    "duration": 6326,
    "start_time": "2024-07-31T10:04:18.746Z"
   },
   {
    "duration": 73,
    "start_time": "2024-07-31T10:10:31.784Z"
   },
   {
    "duration": 49,
    "start_time": "2024-07-31T12:08:02.534Z"
   },
   {
    "duration": 3246,
    "start_time": "2024-07-31T12:08:37.846Z"
   },
   {
    "duration": 1321,
    "start_time": "2024-07-31T12:08:41.095Z"
   },
   {
    "duration": 2853,
    "start_time": "2024-07-31T12:08:42.418Z"
   },
   {
    "duration": 256,
    "start_time": "2024-07-31T12:08:45.273Z"
   },
   {
    "duration": 917,
    "start_time": "2024-07-31T12:08:45.531Z"
   },
   {
    "duration": 24,
    "start_time": "2024-07-31T12:08:46.449Z"
   },
   {
    "duration": 52,
    "start_time": "2024-07-31T12:08:46.475Z"
   },
   {
    "duration": 147,
    "start_time": "2024-07-31T12:08:46.529Z"
   },
   {
    "duration": 144,
    "start_time": "2024-07-31T12:08:46.677Z"
   },
   {
    "duration": 1,
    "start_time": "2024-07-31T12:08:46.822Z"
   },
   {
    "duration": 0,
    "start_time": "2024-07-31T12:08:46.824Z"
   },
   {
    "duration": 2353,
    "start_time": "2024-07-31T12:09:03.312Z"
   },
   {
    "duration": 1311,
    "start_time": "2024-07-31T12:09:05.667Z"
   },
   {
    "duration": 830,
    "start_time": "2024-07-31T12:09:06.980Z"
   },
   {
    "duration": 255,
    "start_time": "2024-07-31T12:09:07.812Z"
   },
   {
    "duration": 833,
    "start_time": "2024-07-31T12:09:08.069Z"
   },
   {
    "duration": 20,
    "start_time": "2024-07-31T12:09:08.903Z"
   },
   {
    "duration": 82,
    "start_time": "2024-07-31T12:09:08.925Z"
   },
   {
    "duration": 167,
    "start_time": "2024-07-31T12:09:09.008Z"
   },
   {
    "duration": 3790,
    "start_time": "2024-07-31T12:09:09.176Z"
   },
   {
    "duration": 306950,
    "start_time": "2024-07-31T12:09:12.968Z"
   },
   {
    "duration": 0,
    "start_time": "2024-07-31T12:14:19.920Z"
   },
   {
    "duration": 2356,
    "start_time": "2024-07-31T12:15:53.980Z"
   },
   {
    "duration": 1486,
    "start_time": "2024-07-31T12:15:56.338Z"
   },
   {
    "duration": 881,
    "start_time": "2024-07-31T12:15:57.826Z"
   },
   {
    "duration": 264,
    "start_time": "2024-07-31T12:15:58.709Z"
   },
   {
    "duration": 924,
    "start_time": "2024-07-31T12:15:58.974Z"
   },
   {
    "duration": 21,
    "start_time": "2024-07-31T12:15:59.900Z"
   },
   {
    "duration": 73,
    "start_time": "2024-07-31T12:15:59.923Z"
   },
   {
    "duration": 135,
    "start_time": "2024-07-31T12:15:59.997Z"
   },
   {
    "duration": 1892,
    "start_time": "2024-07-31T12:16:00.136Z"
   },
   {
    "duration": 344335,
    "start_time": "2024-07-31T12:16:02.030Z"
   },
   {
    "duration": 216530,
    "start_time": "2024-07-31T12:21:46.368Z"
   },
   {
    "duration": 2515,
    "start_time": "2024-07-31T13:42:32.266Z"
   },
   {
    "duration": 1392,
    "start_time": "2024-07-31T13:42:34.784Z"
   },
   {
    "duration": 961,
    "start_time": "2024-07-31T13:42:36.178Z"
   },
   {
    "duration": 263,
    "start_time": "2024-07-31T13:42:37.141Z"
   },
   {
    "duration": 949,
    "start_time": "2024-07-31T13:42:37.406Z"
   },
   {
    "duration": 22,
    "start_time": "2024-07-31T13:42:38.361Z"
   },
   {
    "duration": 97,
    "start_time": "2024-07-31T13:42:38.385Z"
   },
   {
    "duration": 149,
    "start_time": "2024-07-31T13:42:38.484Z"
   },
   {
    "duration": 1943,
    "start_time": "2024-07-31T13:42:38.635Z"
   },
   {
    "duration": 125,
    "start_time": "2024-07-31T13:42:40.581Z"
   },
   {
    "duration": 0,
    "start_time": "2024-07-31T13:42:40.708Z"
   },
   {
    "duration": 2586,
    "start_time": "2024-07-31T13:43:28.703Z"
   },
   {
    "duration": 1334,
    "start_time": "2024-07-31T13:43:31.291Z"
   },
   {
    "duration": 919,
    "start_time": "2024-07-31T13:43:32.627Z"
   },
   {
    "duration": 329,
    "start_time": "2024-07-31T13:43:33.548Z"
   },
   {
    "duration": 903,
    "start_time": "2024-07-31T13:43:33.879Z"
   },
   {
    "duration": 23,
    "start_time": "2024-07-31T13:43:34.784Z"
   },
   {
    "duration": 77,
    "start_time": "2024-07-31T13:43:34.808Z"
   },
   {
    "duration": 142,
    "start_time": "2024-07-31T13:43:34.886Z"
   },
   {
    "duration": 1920,
    "start_time": "2024-07-31T13:43:35.030Z"
   },
   {
    "duration": 318571,
    "start_time": "2024-07-31T13:43:36.952Z"
   },
   {
    "duration": 0,
    "start_time": "2024-07-31T13:48:55.525Z"
   },
   {
    "duration": 2543,
    "start_time": "2024-07-31T13:49:34.777Z"
   },
   {
    "duration": 1249,
    "start_time": "2024-07-31T13:49:37.323Z"
   },
   {
    "duration": 930,
    "start_time": "2024-07-31T13:49:38.574Z"
   },
   {
    "duration": 321,
    "start_time": "2024-07-31T13:49:39.506Z"
   },
   {
    "duration": 938,
    "start_time": "2024-07-31T13:49:39.829Z"
   },
   {
    "duration": 21,
    "start_time": "2024-07-31T13:49:40.769Z"
   },
   {
    "duration": 69,
    "start_time": "2024-07-31T13:49:40.792Z"
   },
   {
    "duration": 142,
    "start_time": "2024-07-31T13:49:40.862Z"
   },
   {
    "duration": 1870,
    "start_time": "2024-07-31T13:49:41.005Z"
   },
   {
    "duration": 114748,
    "start_time": "2024-07-31T13:49:42.877Z"
   },
   {
    "duration": 0,
    "start_time": "2024-07-31T13:51:37.627Z"
   },
   {
    "duration": 2574,
    "start_time": "2024-07-31T13:52:12.412Z"
   },
   {
    "duration": 1369,
    "start_time": "2024-07-31T13:52:14.988Z"
   },
   {
    "duration": 945,
    "start_time": "2024-07-31T13:52:16.358Z"
   },
   {
    "duration": 261,
    "start_time": "2024-07-31T13:52:17.305Z"
   },
   {
    "duration": 877,
    "start_time": "2024-07-31T13:52:17.567Z"
   },
   {
    "duration": 30,
    "start_time": "2024-07-31T13:52:18.445Z"
   },
   {
    "duration": 66,
    "start_time": "2024-07-31T13:52:18.478Z"
   },
   {
    "duration": 164,
    "start_time": "2024-07-31T13:52:18.561Z"
   },
   {
    "duration": 1892,
    "start_time": "2024-07-31T13:52:18.726Z"
   },
   {
    "duration": 1856,
    "start_time": "2024-07-31T13:55:42.650Z"
   },
   {
    "duration": 1279,
    "start_time": "2024-07-31T13:55:44.508Z"
   },
   {
    "duration": 928,
    "start_time": "2024-07-31T13:55:45.789Z"
   },
   {
    "duration": 273,
    "start_time": "2024-07-31T13:55:46.719Z"
   },
   {
    "duration": 894,
    "start_time": "2024-07-31T13:55:46.994Z"
   },
   {
    "duration": 24,
    "start_time": "2024-07-31T13:55:47.890Z"
   },
   {
    "duration": 92,
    "start_time": "2024-07-31T13:55:47.915Z"
   },
   {
    "duration": 141,
    "start_time": "2024-07-31T13:55:48.009Z"
   },
   {
    "duration": 1948,
    "start_time": "2024-07-31T13:55:48.151Z"
   },
   {
    "duration": 2492,
    "start_time": "2024-07-31T14:00:21.223Z"
   },
   {
    "duration": 1321,
    "start_time": "2024-07-31T14:00:23.718Z"
   },
   {
    "duration": 902,
    "start_time": "2024-07-31T14:00:25.040Z"
   },
   {
    "duration": 272,
    "start_time": "2024-07-31T14:00:25.944Z"
   },
   {
    "duration": 879,
    "start_time": "2024-07-31T14:00:26.217Z"
   },
   {
    "duration": 21,
    "start_time": "2024-07-31T14:00:27.098Z"
   },
   {
    "duration": 93,
    "start_time": "2024-07-31T14:00:27.121Z"
   },
   {
    "duration": 142,
    "start_time": "2024-07-31T14:00:27.215Z"
   },
   {
    "duration": 1928,
    "start_time": "2024-07-31T14:00:27.361Z"
   },
   {
    "duration": 2986,
    "start_time": "2024-07-31T17:03:42.918Z"
   },
   {
    "duration": 1257,
    "start_time": "2024-07-31T17:03:45.906Z"
   },
   {
    "duration": 1145,
    "start_time": "2024-07-31T17:03:47.164Z"
   },
   {
    "duration": 231,
    "start_time": "2024-07-31T17:03:48.311Z"
   },
   {
    "duration": 807,
    "start_time": "2024-07-31T17:03:48.544Z"
   },
   {
    "duration": 30,
    "start_time": "2024-07-31T17:03:49.352Z"
   },
   {
    "duration": 51,
    "start_time": "2024-07-31T17:03:49.384Z"
   },
   {
    "duration": 131,
    "start_time": "2024-07-31T17:03:49.436Z"
   },
   {
    "duration": 1755,
    "start_time": "2024-07-31T17:03:49.569Z"
   },
   {
    "duration": 2442,
    "start_time": "2024-07-31T17:26:05.676Z"
   },
   {
    "duration": 1276,
    "start_time": "2024-07-31T17:26:08.120Z"
   },
   {
    "duration": 1205,
    "start_time": "2024-07-31T17:26:09.398Z"
   },
   {
    "duration": 247,
    "start_time": "2024-07-31T17:26:10.605Z"
   },
   {
    "duration": 785,
    "start_time": "2024-07-31T17:26:10.854Z"
   },
   {
    "duration": 20,
    "start_time": "2024-07-31T17:26:11.640Z"
   },
   {
    "duration": 68,
    "start_time": "2024-07-31T17:26:11.662Z"
   },
   {
    "duration": 131,
    "start_time": "2024-07-31T17:26:11.731Z"
   },
   {
    "duration": 1738,
    "start_time": "2024-07-31T17:26:11.864Z"
   },
   {
    "duration": 2233,
    "start_time": "2024-07-31T18:26:31.749Z"
   },
   {
    "duration": 1367,
    "start_time": "2024-07-31T18:26:33.984Z"
   },
   {
    "duration": 1101,
    "start_time": "2024-07-31T18:26:35.353Z"
   },
   {
    "duration": 236,
    "start_time": "2024-07-31T18:26:36.456Z"
   },
   {
    "duration": 757,
    "start_time": "2024-07-31T18:26:36.694Z"
   },
   {
    "duration": 33,
    "start_time": "2024-07-31T18:26:37.453Z"
   },
   {
    "duration": 49,
    "start_time": "2024-07-31T18:26:37.488Z"
   },
   {
    "duration": 136,
    "start_time": "2024-07-31T18:26:37.538Z"
   },
   {
    "duration": 1659,
    "start_time": "2024-07-31T18:26:37.675Z"
   },
   {
    "duration": 2210,
    "start_time": "2024-07-31T19:24:52.892Z"
   },
   {
    "duration": 1280,
    "start_time": "2024-07-31T19:24:55.104Z"
   },
   {
    "duration": 1093,
    "start_time": "2024-07-31T19:24:56.385Z"
   },
   {
    "duration": 239,
    "start_time": "2024-07-31T19:24:57.480Z"
   },
   {
    "duration": 794,
    "start_time": "2024-07-31T19:24:57.720Z"
   },
   {
    "duration": 21,
    "start_time": "2024-07-31T19:24:58.516Z"
   },
   {
    "duration": 71,
    "start_time": "2024-07-31T19:24:58.538Z"
   },
   {
    "duration": 136,
    "start_time": "2024-07-31T19:24:58.611Z"
   },
   {
    "duration": 1719,
    "start_time": "2024-07-31T19:24:58.749Z"
   },
   {
    "duration": 2237,
    "start_time": "2024-07-31T19:32:20.858Z"
   },
   {
    "duration": 1301,
    "start_time": "2024-07-31T19:32:23.097Z"
   },
   {
    "duration": 1094,
    "start_time": "2024-07-31T19:32:24.400Z"
   },
   {
    "duration": 230,
    "start_time": "2024-07-31T19:32:25.495Z"
   },
   {
    "duration": 769,
    "start_time": "2024-07-31T19:32:25.726Z"
   },
   {
    "duration": 19,
    "start_time": "2024-07-31T19:32:26.497Z"
   },
   {
    "duration": 76,
    "start_time": "2024-07-31T19:32:26.517Z"
   },
   {
    "duration": 129,
    "start_time": "2024-07-31T19:32:26.595Z"
   },
   {
    "duration": 1647,
    "start_time": "2024-07-31T19:32:26.725Z"
   },
   {
    "duration": 66424,
    "start_time": "2024-07-31T19:32:28.373Z"
   },
   {
    "duration": 306,
    "start_time": "2024-07-31T19:33:34.882Z"
   }
  ],
  "kernelspec": {
   "display_name": "Python 3 (ipykernel)",
   "language": "python",
   "name": "python3"
  },
  "language_info": {
   "codemirror_mode": {
    "name": "ipython",
    "version": 3
   },
   "file_extension": ".py",
   "mimetype": "text/x-python",
   "name": "python",
   "nbconvert_exporter": "python",
   "pygments_lexer": "ipython3",
   "version": "3.9.5"
  },
  "toc": {
   "base_numbering": 1,
   "nav_menu": {},
   "number_sections": true,
   "sideBar": true,
   "skip_h1_title": true,
   "title_cell": "Table of Contents",
   "title_sidebar": "Contents",
   "toc_cell": false,
   "toc_position": {},
   "toc_section_display": true,
   "toc_window_display": false
  }
 },
 "nbformat": 4,
 "nbformat_minor": 2
}
